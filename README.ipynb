{
 "cells": [
  {
   "cell_type": "markdown",
   "metadata": {},
   "source": [
    "## Workspace for Data Science\n",
    "\n",
    "Use the `persistent` folder in the workspace to store data and code persistently. Note that it is slower to read and write data in this folder. \n",
    "\n",
    "So you might want to use another folder in the workspace for faster read/write. The data stored in other folders will be lost if the notebook container is restarted or stopped."
   ]
  }
 ],
 "metadata": {
  "language_info": {
   "name": "python"
  },
  "orig_nbformat": 4
 },
 "nbformat": 4,
 "nbformat_minor": 2
}
